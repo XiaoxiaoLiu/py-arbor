{
 "metadata": {
  "name": "PhyloTreeHeatmapVis"
 },
 "nbformat": 3,
 "nbformat_minor": 0,
 "worksheets": [
  {
   "cells": [
    {
     "cell_type": "code",
     "collapsed": false,
     "input": [
      "#!/usr/bin/python\n",
      "\n",
      "from  vtk import *\n",
      "\n",
      "\n",
      "#folder setting\n",
      "dataDir ='../../data/Arbor'\n",
      "treeFile = dataDir + '/anolis.phy'\n",
      "tableFile = dataDir + '/anolisDataAppended.csv'\n",
      "\n",
      "#read in a tree\n",
      "treeReader = vtkNewickTreeReader()\n",
      "treeReader.SetFileName(treeFile)\n",
      "treeReader.Update()\n",
      "tr = treeReader.GetOutput()\n",
      "print('input tree has ' + str(tr.GetNumberOfVertices()) + ' vertices')\n",
      "\n",
      "#read in a table\n",
      "tableReader = vtkDelimitedTextReader()\n",
      "tableReader.SetFileName(tableFile)\n",
      "tableReader.Update()\n",
      "table = tableReader.GetOutput()\n",
      "print('input table has ' + str(table.GetNumberOfRows()) + ' rows and ' + str(table.GetNumberOfColumns()) + ' cols')"
     ],
     "language": "python",
     "metadata": {},
     "outputs": [
      {
       "output_type": "stream",
       "stream": "stdout",
       "text": [
        "input tree has 200 vertices\n",
        "input table has 101 rows and 11 cols\n"
       ]
      }
     ],
     "prompt_number": 1
    },
    {
     "cell_type": "code",
     "collapsed": false,
     "input": [
      "#play with the heatmap vis\n",
      "treeHeatmapItem = vtkTreeHeatmapItem()\n",
      "treeHeatmapItem.SetTree(tr);\n",
      "treeHeatmapItem.SetTable(table);\n",
      "\n",
      "transformItem = vtkContextTransform()\n",
      "transformItem.AddItem(treeHeatmapItem)\n",
      "transformItem.SetInteractive(1)\n",
      "\n",
      "# setup the window\n",
      "view = vtkContextView()\n",
      "view.GetRenderer().SetBackground(1,1,1)\n",
      "renwin = view.GetRenderWindow()\n",
      "renwin.SetSize(800,600)\n",
      "\n",
      "iren = view.GetInteractor()\n",
      "\n",
      "\n",
      "view.GetScene().AddItem(transformItem)\n",
      "renwin.SetMultiSamples(0)\n",
      "\n",
      "def dont_quit(obj,event):\n",
      "    print \"To quit, press at the promp\"\n",
      "        \n",
      "iren.AddObserver(\"ExitEvent\",dont_quit,1)\n",
      "\n",
      "#iren.Initialize()\n",
      "renwin.Render()\n",
      "iren.Start()\n"
     ],
     "language": "python",
     "metadata": {},
     "outputs": [],
     "prompt_number": "*"
    },
    {
     "cell_type": "code",
     "collapsed": false,
     "input": [],
     "language": "python",
     "metadata": {},
     "outputs": [],
     "prompt_number": "*"
    },
    {
     "cell_type": "code",
     "collapsed": false,
     "input": [],
     "language": "python",
     "metadata": {},
     "outputs": []
    }
   ],
   "metadata": {}
  }
 ]
}